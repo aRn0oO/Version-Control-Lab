{
 "cells": [
  {
   "cell_type": "code",
   "execution_count": 1,
   "metadata": {},
   "outputs": [
    {
     "name": "stdin",
     "output_type": "stream",
     "text": [
      "Please enter your name: Ben\n",
      "Please enter a number: 10\n"
     ]
    },
    {
     "name": "stdout",
     "output_type": "stream",
     "text": [
      "Ben\n",
      "Ben\n",
      "Ben\n",
      "Ben\n",
      "Ben\n",
      "Ben\n",
      "Ben\n",
      "Ben\n",
      "Ben\n",
      "Ben\n"
     ]
    }
   ],
   "source": [
    "name = input(\"Please enter your name:\")\n",
    "num = int(input(\"Please enter a number:\"))\n",
    "for i in range(num):\n",
    "    print(name)"
   ]
  }
 ],
 "metadata": {
  "kernelspec": {
   "display_name": "Python 3",
   "language": "python",
   "name": "python3"
  },
  "language_info": {
   "codemirror_mode": {
    "name": "ipython",
    "version": 3
   },
   "file_extension": ".py",
   "mimetype": "text/x-python",
   "name": "python",
   "nbconvert_exporter": "python",
   "pygments_lexer": "ipython3",
   "version": "3.8.3"
  }
 },
 "nbformat": 4,
 "nbformat_minor": 4
}
